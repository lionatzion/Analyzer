{
  "nbformat": 4,
  "nbformat_minor": 0,
  "metadata": {
    "colab": {
      "provenance": [],
      "authorship_tag": "ABX9TyMpz/DZWYXrW+HC8XbWmNxg",
      "include_colab_link": true
    },
    "kernelspec": {
      "name": "python3",
      "display_name": "Python 3"
    },
    "language_info": {
      "name": "python"
    }
  },
  "cells": [
    {
      "cell_type": "markdown",
      "metadata": {
        "id": "view-in-github",
        "colab_type": "text"
      },
      "source": [
        "<a href=\"https://colab.research.google.com/github/lionatzion/Analyzer/blob/main/PortfolioAnalysis.ipynb\" target=\"_parent\"><img src=\"https://colab.research.google.com/assets/colab-badge.svg\" alt=\"Open In Colab\"/></a>"
      ]
    },
    {
      "cell_type": "code",
      "source": [
        "python\n",
        "\n",
        "import yfinance as yf\n",
        "import numpy as np\n",
        "returns = yf.download(['AAPL', 'GOOGL', 'MSFT'], period='1y')['Adj Close'].pct.change()\n",
        "weights = np.random.dirichlet(np.ones(3), size=10000)    # Random portfolio weights\n",
        "sharpe_ratios = [(weights[i] @ returns.mean()) / np.sqrt(weights[i] @ returns.cov() @) ]"
      ],
      "metadata": {
        "id": "zrtGfF0_I78x"
      },
      "execution_count": null,
      "outputs": []
    },
    {
      "cell_type": "markdown",
      "source": [
        "= Random Portfolio Weights\n"
      ],
      "metadata": {
        "id": "0Q1uqEnVJypi"
      }
    },
    {
      "cell_type": "markdown",
      "source": [],
      "metadata": {
        "id": "vOkkyKrOJyXg"
      }
    },
    {
      "cell_type": "markdown",
      "source": [],
      "metadata": {
        "id": "P3CVl4ByJyBm"
      }
    },
    {
      "cell_type": "code",
      "source": [],
      "metadata": {
        "id": "cx_nApARI5-J"
      },
      "execution_count": null,
      "outputs": []
    }
  ]
}